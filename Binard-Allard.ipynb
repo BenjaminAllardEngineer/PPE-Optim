{
 "cells": [
  {
   "cell_type": "markdown",
   "metadata": {},
   "source": [
    "# Maximisation de la rentabilité d'une installation de stockage"
   ]
  },
  {
   "cell_type": "markdown",
   "metadata": {},
   "source": [
    "## Importer les données annuelles de la PPE"
   ]
  },
  {
   "cell_type": "code",
   "execution_count": 1,
   "metadata": {},
   "outputs": [
    {
     "name": "stdout",
     "output_type": "stream",
     "text": [
      "Collecting nb_black\n",
      "  Downloading nb_black-1.0.7.tar.gz (4.8 kB)\n",
      "Requirement already satisfied: ipython in /Applications/anaconda3/lib/python3.7/site-packages (from nb_black) (7.18.1)\n",
      "Collecting black>='19.3'\n",
      "  Downloading black-20.8b1.tar.gz (1.1 MB)\n",
      "\u001b[K     |████████████████████████████████| 1.1 MB 3.3 MB/s eta 0:00:01\n",
      "\u001b[?25h  Installing build dependencies ... \u001b[?25ldone\n",
      "\u001b[?25h  Getting requirements to build wheel ... \u001b[?25ldone\n",
      "\u001b[?25h    Preparing wheel metadata ... \u001b[?25ldone\n",
      "\u001b[33m  WARNING: Requested black>='19.3' from https://files.pythonhosted.org/packages/dc/7b/5a6bbe89de849f28d7c109f5ea87b65afa5124ad615f3419e71beb29dc96/black-20.8b1.tar.gz#sha256=1c02557aa099101b9d21496f8a914e9ed2222ef70336404eeeac8edba836fbea (from nb_black), but installing version 20.8b1\u001b[0m\n",
      "\u001b[?25hRequirement already satisfied: prompt-toolkit!=3.0.0,!=3.0.1,<3.1.0,>=2.0.0 in /Applications/anaconda3/lib/python3.7/site-packages (from ipython->nb_black) (2.0.10)\n",
      "Requirement already satisfied: appnope; sys_platform == \"darwin\" in /Applications/anaconda3/lib/python3.7/site-packages (from ipython->nb_black) (0.1.0)\n",
      "Requirement already satisfied: pygments in /Applications/anaconda3/lib/python3.7/site-packages (from ipython->nb_black) (2.7.2)\n",
      "Requirement already satisfied: setuptools>=18.5 in /Applications/anaconda3/lib/python3.7/site-packages (from ipython->nb_black) (41.0.0)\n",
      "Requirement already satisfied: traitlets>=4.2 in /Applications/anaconda3/lib/python3.7/site-packages (from ipython->nb_black) (5.0.5)\n",
      "Requirement already satisfied: jedi>=0.10 in /Applications/anaconda3/lib/python3.7/site-packages (from ipython->nb_black) (0.17.1)\n",
      "Requirement already satisfied: pexpect>4.3; sys_platform != \"win32\" in /Applications/anaconda3/lib/python3.7/site-packages (from ipython->nb_black) (4.8.0)\n",
      "Requirement already satisfied: pickleshare in /Applications/anaconda3/lib/python3.7/site-packages (from ipython->nb_black) (0.7.5)\n",
      "Requirement already satisfied: backcall in /Applications/anaconda3/lib/python3.7/site-packages (from ipython->nb_black) (0.2.0)\n",
      "Requirement already satisfied: decorator in /Applications/anaconda3/lib/python3.7/site-packages (from ipython->nb_black) (4.4.2)\n",
      "Requirement already satisfied: typed-ast>=1.4.0 in /Applications/anaconda3/lib/python3.7/site-packages (from black>='19.3'->nb_black) (1.4.1)\n",
      "Collecting mypy-extensions>=0.4.3\n",
      "  Downloading mypy_extensions-0.4.3-py2.py3-none-any.whl (4.5 kB)\n",
      "Requirement already satisfied: toml>=0.10.1 in /Applications/anaconda3/lib/python3.7/site-packages (from black>='19.3'->nb_black) (0.10.1)\n",
      "Collecting appdirs\n",
      "  Downloading appdirs-1.4.4-py2.py3-none-any.whl (9.6 kB)\n",
      "Collecting pathspec<1,>=0.6\n",
      "  Downloading pathspec-0.8.1-py2.py3-none-any.whl (28 kB)\n",
      "Requirement already satisfied: click>=7.1.2 in /Applications/anaconda3/lib/python3.7/site-packages (from black>='19.3'->nb_black) (7.1.2)\n",
      "Requirement already satisfied: typing-extensions>=3.7.4 in /Applications/anaconda3/lib/python3.7/site-packages (from black>='19.3'->nb_black) (3.7.4.3)\n",
      "Requirement already satisfied: regex>=2020.1.8 in /Applications/anaconda3/lib/python3.7/site-packages (from black>='19.3'->nb_black) (2020.9.27)\n",
      "Requirement already satisfied: wcwidth in /Applications/anaconda3/lib/python3.7/site-packages (from prompt-toolkit!=3.0.0,!=3.0.1,<3.1.0,>=2.0.0->ipython->nb_black) (0.2.5)\n",
      "Requirement already satisfied: six>=1.9.0 in /Applications/anaconda3/lib/python3.7/site-packages (from prompt-toolkit!=3.0.0,!=3.0.1,<3.1.0,>=2.0.0->ipython->nb_black) (1.15.0)\n",
      "Requirement already satisfied: ipython-genutils in /Applications/anaconda3/lib/python3.7/site-packages (from traitlets>=4.2->ipython->nb_black) (0.2.0)\n",
      "Requirement already satisfied: parso<0.8.0,>=0.7.0 in /Applications/anaconda3/lib/python3.7/site-packages (from jedi>=0.10->ipython->nb_black) (0.7.0)\n",
      "Requirement already satisfied: ptyprocess>=0.5 in /Applications/anaconda3/lib/python3.7/site-packages (from pexpect>4.3; sys_platform != \"win32\"->ipython->nb_black) (0.6.0)\n",
      "Building wheels for collected packages: nb-black, black\n",
      "  Building wheel for nb-black (setup.py) ... \u001b[?25ldone\n",
      "\u001b[?25h  Created wheel for nb-black: filename=nb_black-1.0.7-py3-none-any.whl size=5280 sha256=dd11abebb959f7c82c45fa1fc341ac623fe619c1f0bd3c747d56b77479ff1b44\n",
      "  Stored in directory: /Users/MacBookBenjamin/Library/Caches/pip/wheels/1e/b2/88/51c66d23ea5fd0d40ed50997555e15d981d92671376a9a412a\n",
      "  Building wheel for black (PEP 517) ... \u001b[?25ldone\n",
      "\u001b[?25h  Created wheel for black: filename=black-20.8b1-py3-none-any.whl size=124184 sha256=ccbb401f0308086f79ac2329a841fbdbecabb463c7d84773f80ba2adffa9e593\n",
      "  Stored in directory: /Users/MacBookBenjamin/Library/Caches/pip/wheels/c5/85/79/f3af8daaf8037c0bf14beb3b7a1511a39b6e6902ca2aaf494e\n",
      "Successfully built nb-black black\n",
      "Installing collected packages: mypy-extensions, appdirs, pathspec, black, nb-black\n",
      "Successfully installed appdirs-1.4.4 black-20.8b1 mypy-extensions-0.4.3 nb-black-1.0.7 pathspec-0.8.1\n"
     ]
    }
   ],
   "source": [
    "!pip install nb_black"
   ]
  },
  {
   "cell_type": "code",
   "execution_count": 2,
   "metadata": {},
   "outputs": [],
   "source": [
    "%load_ext lab_black"
   ]
  },
  {
   "cell_type": "code",
   "execution_count": 3,
   "metadata": {},
   "outputs": [],
   "source": [
    "import pandas as pd\n",
    "import matplotlib.pyplot as plt\n",
    "import numpy as np"
   ]
  },
  {
   "cell_type": "code",
   "execution_count": 4,
   "metadata": {},
   "outputs": [],
   "source": [
    "data = pd.read_excel(\"historic_data.xlsx\")\n",
    "data = data.drop([\"Unnamed: 8\", \"moyen à considérer comme\"], axis=1).set_index(\"Date\")"
   ]
  },
  {
   "cell_type": "code",
   "execution_count": 3,
   "metadata": {},
   "outputs": [
    {
     "data": {
      "text/html": [
       "<div>\n",
       "<style scoped>\n",
       "    .dataframe tbody tr th:only-of-type {\n",
       "        vertical-align: middle;\n",
       "    }\n",
       "\n",
       "    .dataframe tbody tr th {\n",
       "        vertical-align: top;\n",
       "    }\n",
       "\n",
       "    .dataframe thead th {\n",
       "        text-align: right;\n",
       "    }\n",
       "</style>\n",
       "<table border=\"1\" class=\"dataframe\">\n",
       "  <thead>\n",
       "    <tr style=\"text-align: right;\">\n",
       "      <th></th>\n",
       "      <th>Consommation (MW)</th>\n",
       "      <th>Thermique (MW)</th>\n",
       "      <th>Bagasse/charbon (MW)</th>\n",
       "      <th>Hydraulique (MW)</th>\n",
       "      <th>Photovoltaïque (MW)</th>\n",
       "      <th>Eolien (MW)</th>\n",
       "      <th>Bioénergies (MW)</th>\n",
       "    </tr>\n",
       "    <tr>\n",
       "      <th>Date</th>\n",
       "      <th></th>\n",
       "      <th></th>\n",
       "      <th></th>\n",
       "      <th></th>\n",
       "      <th></th>\n",
       "      <th></th>\n",
       "      <th></th>\n",
       "    </tr>\n",
       "  </thead>\n",
       "  <tbody>\n",
       "    <tr>\n",
       "      <th>2017-01-01 04:00:00</th>\n",
       "      <td>258.452</td>\n",
       "      <td>29.471</td>\n",
       "      <td>198.937</td>\n",
       "      <td>29.183</td>\n",
       "      <td>-0.434</td>\n",
       "      <td>-0.059</td>\n",
       "      <td>1.353</td>\n",
       "    </tr>\n",
       "    <tr>\n",
       "      <th>2017-01-01 05:00:00</th>\n",
       "      <td>251.673</td>\n",
       "      <td>30.472</td>\n",
       "      <td>194.092</td>\n",
       "      <td>26.283</td>\n",
       "      <td>-0.427</td>\n",
       "      <td>-0.060</td>\n",
       "      <td>1.313</td>\n",
       "    </tr>\n",
       "    <tr>\n",
       "      <th>2017-01-01 06:00:00</th>\n",
       "      <td>242.021</td>\n",
       "      <td>30.010</td>\n",
       "      <td>181.286</td>\n",
       "      <td>29.805</td>\n",
       "      <td>-0.359</td>\n",
       "      <td>-0.062</td>\n",
       "      <td>1.341</td>\n",
       "    </tr>\n",
       "    <tr>\n",
       "      <th>2017-01-01 07:00:00</th>\n",
       "      <td>233.028</td>\n",
       "      <td>24.341</td>\n",
       "      <td>173.220</td>\n",
       "      <td>22.226</td>\n",
       "      <td>11.997</td>\n",
       "      <td>-0.042</td>\n",
       "      <td>1.285</td>\n",
       "    </tr>\n",
       "    <tr>\n",
       "      <th>2017-01-01 08:00:00</th>\n",
       "      <td>245.900</td>\n",
       "      <td>14.836</td>\n",
       "      <td>163.957</td>\n",
       "      <td>19.252</td>\n",
       "      <td>46.460</td>\n",
       "      <td>0.030</td>\n",
       "      <td>1.365</td>\n",
       "    </tr>\n",
       "  </tbody>\n",
       "</table>\n",
       "</div>"
      ],
      "text/plain": [
       "                     Consommation (MW)  Thermique (MW)  Bagasse/charbon (MW)  \\\n",
       "Date                                                                           \n",
       "2017-01-01 04:00:00            258.452          29.471               198.937   \n",
       "2017-01-01 05:00:00            251.673          30.472               194.092   \n",
       "2017-01-01 06:00:00            242.021          30.010               181.286   \n",
       "2017-01-01 07:00:00            233.028          24.341               173.220   \n",
       "2017-01-01 08:00:00            245.900          14.836               163.957   \n",
       "\n",
       "                     Hydraulique (MW)  Photovoltaïque (MW)  Eolien (MW)  \\\n",
       "Date                                                                      \n",
       "2017-01-01 04:00:00            29.183               -0.434       -0.059   \n",
       "2017-01-01 05:00:00            26.283               -0.427       -0.060   \n",
       "2017-01-01 06:00:00            29.805               -0.359       -0.062   \n",
       "2017-01-01 07:00:00            22.226               11.997       -0.042   \n",
       "2017-01-01 08:00:00            19.252               46.460        0.030   \n",
       "\n",
       "                     Bioénergies (MW)  \n",
       "Date                                   \n",
       "2017-01-01 04:00:00             1.353  \n",
       "2017-01-01 05:00:00             1.313  \n",
       "2017-01-01 06:00:00             1.341  \n",
       "2017-01-01 07:00:00             1.285  \n",
       "2017-01-01 08:00:00             1.365  "
      ]
     },
     "execution_count": 3,
     "metadata": {},
     "output_type": "execute_result"
    }
   ],
   "source": [
    "data.head()"
   ]
  },
  {
   "cell_type": "code",
   "execution_count": 5,
   "metadata": {},
   "outputs": [],
   "source": [
    "data[\"Fatal (MW)\"] = (\n",
    "    data[\"Photovoltaïque (MW)\"]\n",
    "    + data[\"Eolien (MW)\"]\n",
    "    + data[\"Bioénergies (MW)\"]\n",
    "    + data[\"Hydraulique (MW)\"]\n",
    ")"
   ]
  },
  {
   "cell_type": "code",
   "execution_count": 9,
   "metadata": {},
   "outputs": [
    {
     "data": {
      "image/png": "[encoded data removed]",
      "text/plain": [
       "<Figure size 432x288 with 1 Axes>"
      ]
     },
     "metadata": {
      "needs_background": "light"
     },
     "output_type": "display_data"
    }
   ],
   "source": [
    "week = data.loc['2017-01-07 00:00':'2017-01-14 00:00']\n",
    "demand = week['Consommation (MW)']\n",
    "plt.plot(demand, 'r')\n",
    "prod_fatale = week['Fatal (MW)']\n",
    "plt.plot(prod_fatale, 'b')\n",
    "\n",
    "costs = np.array([20, 40])\n",
    "power_max = np.array([400, 200])\n",
    "power_min = np.array([50, 20])"
   ]
  },
  {
   "cell_type": "markdown",
   "metadata": {},
   "source": [
    "## La modélisation du problème de rentabilité"
   ]
  },
  {
   "cell_type": "markdown",
   "metadata": {},
   "source": [
    "On va d'abord définir une colonne FATAL représentant les énergies non dispatchables, incluant l'yhdraulique qui pour le moment sera considéré comme 100% fatal."
   ]
  },
  {
   "cell_type": "code",
   "execution_count": 6,
   "metadata": {},
   "outputs": [],
   "source": [
    "data[\"Fatal (MW)\"] = (\n",
    "    data[\"Photovoltaïque (MW)\"]\n",
    "    + data[\"Eolien (MW)\"]\n",
    "    + data[\"Bioénergies (MW)\"]\n",
    "    + data[\"Hydraulique (MW)\"]\n",
    ")"
   ]
  },
  {
   "cell_type": "code",
   "execution_count": 7,
   "metadata": {},
   "outputs": [],
   "source": [
    "df = data.copy()\n",
    "df.columns = [\n",
    "    \"Consommation\",\n",
    "    \"Thermique\",\n",
    "    \"Bagasse\",\n",
    "    \"Hydraulique\",\n",
    "    \"PV\",\n",
    "    \"Eolien\",\n",
    "    \"Bioenergies\",\n",
    "    \"FATAL\",\n",
    "]\n",
    "df = df.drop([\"Hydraulique\", \"PV\", \"Eolien\", \"Bioenergies\"], axis=1)"
   ]
  },
  {
   "cell_type": "markdown",
   "metadata": {},
   "source": [
    "On va alors optimiser la répartition de la production entre thermique, bagasse/charbon et stockage sur des durée d'une semaine. Pour cela nous aurons besoin des capacités de stockage - on considère dans un premier temps qu'il n'y pas de contrainte sur la puissance de charge et décharge du stockage autre qu'une majoration de puissance max, nous expliquerons pourquoi plus loin. Nous aurons aussi besoin des capacités de production du thermique et de la bagasse/charbon, ainsi que leurs contraintes de temps d'arrêt et le coût de production associé."
   ]
  },
  {
   "cell_type": "code",
   "execution_count": 13,
   "metadata": {},
   "outputs": [],
   "source": [
    "pmin_ther, pmax_ther = 10, 300\n",
    "pmin_char, pmax_char = 150, 1100\n",
    "capa_stock = 550\n",
    "pmax_stock = 100\n",
    "cost_ther = 300\n",
    "cost_char = 150"
   ]
  },
  {
   "cell_type": "markdown",
   "metadata": {},
   "source": [
    "Cette optimisation par semaine sur l'année nous retournera le coût de production annuel."
   ]
  },
  {
   "cell_type": "markdown",
   "metadata": {},
   "source": [
    "Dans un deuxième temps nous aurons besoin d'une évaluation du coût fixe annuel de cette capacité de stockage supplémentaire installée, pour faire un rapport entre le coût évité par une nouvelle installation et ce coût fixe annuel. Il devra prendre en compte notamment le CAPEX répartit sur une durée de vie estimée et l'OPEX associée. \n",
    "Nous ne prenons pas en compte l'utilisation du stockage dans l'année sur cette évaluation du coût fixe, alors que cette utilisation peut avoir une grande importance sur la durée de vie (par exemple pour une batterie mal utilisée), mais construire ce modèle serait trop complexe ici."
   ]
  },
  {
   "cell_type": "markdown",
   "metadata": {},
   "source": [
    "## Rentabilité d'une installation de stockage"
   ]
  },
  {
   "cell_type": "code",
   "execution_count": 10,
   "metadata": {},
   "outputs": [],
   "source": [
    "import pulp\n",
    "%matplotlib inline\n",
    "import matplotlib.pyplot as plt\n",
    "import numpy as np"
   ]
  },
  {
   "cell_type": "code",
   "execution_count": 19,
   "metadata": {},
   "outputs": [
    {
     "data": {
      "text/html": [
       "<div>\n",
       "<style scoped>\n",
       "    .dataframe tbody tr th:only-of-type {\n",
       "        vertical-align: middle;\n",
       "    }\n",
       "\n",
       "    .dataframe tbody tr th {\n",
       "        vertical-align: top;\n",
       "    }\n",
       "\n",
       "    .dataframe thead th {\n",
       "        text-align: right;\n",
       "    }\n",
       "</style>\n",
       "<table border=\"1\" class=\"dataframe\">\n",
       "  <thead>\n",
       "    <tr style=\"text-align: right;\">\n",
       "      <th></th>\n",
       "      <th>Consommation</th>\n",
       "      <th>Thermique</th>\n",
       "      <th>Bagasse</th>\n",
       "      <th>FATAL</th>\n",
       "    </tr>\n",
       "    <tr>\n",
       "      <th>Date</th>\n",
       "      <th></th>\n",
       "      <th></th>\n",
       "      <th></th>\n",
       "      <th></th>\n",
       "    </tr>\n",
       "  </thead>\n",
       "  <tbody>\n",
       "    <tr>\n",
       "      <th>2017-01-01 04:00:00</th>\n",
       "      <td>258.452</td>\n",
       "      <td>29.471</td>\n",
       "      <td>198.937</td>\n",
       "      <td>30.043</td>\n",
       "    </tr>\n",
       "    <tr>\n",
       "      <th>2017-01-01 05:00:00</th>\n",
       "      <td>251.673</td>\n",
       "      <td>30.472</td>\n",
       "      <td>194.092</td>\n",
       "      <td>27.109</td>\n",
       "    </tr>\n",
       "    <tr>\n",
       "      <th>2017-01-01 06:00:00</th>\n",
       "      <td>242.021</td>\n",
       "      <td>30.010</td>\n",
       "      <td>181.286</td>\n",
       "      <td>30.725</td>\n",
       "    </tr>\n",
       "    <tr>\n",
       "      <th>2017-01-01 07:00:00</th>\n",
       "      <td>233.028</td>\n",
       "      <td>24.341</td>\n",
       "      <td>173.220</td>\n",
       "      <td>35.466</td>\n",
       "    </tr>\n",
       "    <tr>\n",
       "      <th>2017-01-01 08:00:00</th>\n",
       "      <td>245.900</td>\n",
       "      <td>14.836</td>\n",
       "      <td>163.957</td>\n",
       "      <td>67.107</td>\n",
       "    </tr>\n",
       "    <tr>\n",
       "      <th>...</th>\n",
       "      <td>...</td>\n",
       "      <td>...</td>\n",
       "      <td>...</td>\n",
       "      <td>...</td>\n",
       "    </tr>\n",
       "    <tr>\n",
       "      <th>2017-01-07 19:00:00</th>\n",
       "      <td>350.045</td>\n",
       "      <td>92.799</td>\n",
       "      <td>186.517</td>\n",
       "      <td>69.846</td>\n",
       "    </tr>\n",
       "    <tr>\n",
       "      <th>2017-01-07 20:00:00</th>\n",
       "      <td>381.292</td>\n",
       "      <td>95.241</td>\n",
       "      <td>186.704</td>\n",
       "      <td>98.462</td>\n",
       "    </tr>\n",
       "    <tr>\n",
       "      <th>2017-01-07 21:00:00</th>\n",
       "      <td>376.769</td>\n",
       "      <td>92.802</td>\n",
       "      <td>186.232</td>\n",
       "      <td>96.850</td>\n",
       "    </tr>\n",
       "    <tr>\n",
       "      <th>2017-01-07 22:00:00</th>\n",
       "      <td>361.242</td>\n",
       "      <td>93.633</td>\n",
       "      <td>186.310</td>\n",
       "      <td>80.414</td>\n",
       "    </tr>\n",
       "    <tr>\n",
       "      <th>2017-01-07 23:00:00</th>\n",
       "      <td>365.538</td>\n",
       "      <td>97.034</td>\n",
       "      <td>187.322</td>\n",
       "      <td>80.296</td>\n",
       "    </tr>\n",
       "  </tbody>\n",
       "</table>\n",
       "<p>164 rows × 4 columns</p>\n",
       "</div>"
      ],
      "text/plain": [
       "                     Consommation  Thermique  Bagasse   FATAL\n",
       "Date                                                         \n",
       "2017-01-01 04:00:00       258.452     29.471  198.937  30.043\n",
       "2017-01-01 05:00:00       251.673     30.472  194.092  27.109\n",
       "2017-01-01 06:00:00       242.021     30.010  181.286  30.725\n",
       "2017-01-01 07:00:00       233.028     24.341  173.220  35.466\n",
       "2017-01-01 08:00:00       245.900     14.836  163.957  67.107\n",
       "...                           ...        ...      ...     ...\n",
       "2017-01-07 19:00:00       350.045     92.799  186.517  69.846\n",
       "2017-01-07 20:00:00       381.292     95.241  186.704  98.462\n",
       "2017-01-07 21:00:00       376.769     92.802  186.232  96.850\n",
       "2017-01-07 22:00:00       361.242     93.633  186.310  80.414\n",
       "2017-01-07 23:00:00       365.538     97.034  187.322  80.296\n",
       "\n",
       "[164 rows x 4 columns]"
      ]
     },
     "execution_count": 19,
     "metadata": {},
     "output_type": "execute_result"
    }
   ],
   "source": [
    "# Récupération d'une semaine\n",
    "week = df.loc['2017-01-01':'2017-01-07']\n",
    "week"
   ]
  },
  {
   "cell_type": "code",
   "execution_count": 8,
   "metadata": {},
   "outputs": [],
   "source": [
    "def solve_week(week):\n",
    "    df = week.copy()\n",
    "    tprob = pulp.LpProblem(\"Week\", pulp.LpMinimize)\n",
    "    demand = list(week[\"Consommation\"])\n",
    "    fatal = list(week[\"FATAL\"])\n",
    "    nbsteps = week.shape[0]\n",
    "    ## production\n",
    "    p_ther = [pulp.LpVariable(f\"p_ther_{t}\", 0, pmax_ther) for t in range(0, nbsteps)]\n",
    "    p_char = [pulp.LpVariable(f\"p_char_{t}\", 0, pmax_char) for t in range(0, nbsteps)]\n",
    "    p_load = [pulp.LpVariable(f\"p_load_{t}\", 0, pmax_stock) for t in range(0, nbsteps)]\n",
    "    stock = [pulp.LpVariable(f\"stock_{t}\", 0, capa_stock) for t in range(0, nbsteps)]\n",
    "\n",
    "    ## on/off\n",
    "    on_ther = [\n",
    "        pulp.LpVariable(f\"on_ther_{t}\", cat=pulp.LpBinary) for t in range(0, nbsteps)\n",
    "    ]\n",
    "    on_char = [\n",
    "        pulp.LpVariable(f\"on_char_{t}\", cat=pulp.LpBinary) for t in range(0, nbsteps)\n",
    "    ]\n",
    "    on_load = [\n",
    "        pulp.LpVariable(f\"on_load_{t}\", cat=pulp.LpBinary) for t in range(0, nbsteps)\n",
    "    ]\n",
    "\n",
    "    # constraints\n",
    "    for t in range(0, nbsteps):\n",
    "        tprob += p_ther[t] >= pmin_ther * on_ther[t]  # if 'on' produce at least min\n",
    "        tprob += (\n",
    "            p_ther[t] <= pmax_ther * on_ther[t]\n",
    "        )  # if 'on' produce at most max, if 'off' produce 0\n",
    "        tprob += p_char[t] >= pmin_char * on_char[t]\n",
    "        tprob += p_char[t] <= pmax_char * on_char[t]\n",
    "        tprob += p_load[t] >= 0 * on_load[t]\n",
    "        tprob += p_load[t] <= pmax_stock * on_load[t]\n",
    "\n",
    "        tprob += p_load[t] <= stock[t - 1]\n",
    "        tprob += p_ther[t] + p_char[t] + fatal[t] + p_load[t] >= demand[t]\n",
    "\n",
    "    for t in range(1, nbsteps):\n",
    "        tprob += stock[t] == stock[t - 1] - p_load[t - 1] + (\n",
    "            p_load[t - 1] + p_ther[t - 1] + p_char[t - 1] + fatal[t - 1] - demand[t - 1]\n",
    "        )\n",
    "\n",
    "    # Add constraints on stopping time\n",
    "\n",
    "    # objective\n",
    "    tprob += sum(\n",
    "        [p_ther[t] * cost_ther + p_char[t] * cost_char for t in range(0, nbsteps)]\n",
    "    )\n",
    "    tprob.solve()\n",
    "    df[\"Pred_thermique\"] = [pulp.value(p_ther[t]) for t in range(0, nbsteps)]\n",
    "    df[\"Pred_charbon\"] = [pulp.value(p_char[t]) for t in range(0, nbsteps)]\n",
    "    df[\"Puissance_stock\"] = [pulp.value(p_load[t]) for t in range(0, nbsteps)]\n",
    "    df[\"Stockage\"] = [pulp.value(stock[t]) for t in range(0, nbsteps)]\n",
    "    \n",
    "    #df.assign(Pred_thermique=[pulp.value(p_ther[t]) for t in range(0, nbsteps)], \n",
    "    #         Pred_charbon= lambda df: df.solaire - df.pv)\n",
    "    return df"
   ]
  },
  {
   "cell_type": "code",
   "execution_count": 29,
   "metadata": {},
   "outputs": [],
   "source": [
    "result = solve_week(week)"
   ]
  },
  {
   "cell_type": "code",
   "execution_count": 32,
   "metadata": {},
   "outputs": [],
   "source": [
    "def plot_week(week):\n",
    "    week.plot(y=['Consommation', 'Pred_thermique', 'Pred_charbon', 'Puissance_stock', 'FATAL'])"
   ]
  },
  {
   "cell_type": "code",
   "execution_count": 33,
   "metadata": {},
   "outputs": [
    {
     "data": {
      "image/png": "[encoded data removed]",
      "text/plain": [
       "<Figure size 432x288 with 1 Axes>"
      ]
     },
     "metadata": {
      "needs_background": "light"
     },
     "output_type": "display_data"
    }
   ],
   "source": [
    "plot_week(result)"
   ]
  },
  {
   "cell_type": "markdown",
   "metadata": {},
   "source": [
    "## Optimisation de l'installation de stockage"
   ]
  },
  {
   "cell_type": "markdown",
   "metadata": {},
   "source": [
    "À partir de cette fonction qui modélise la rentabilité d'une installation de stockage selon la capacité installée, nous cherchons à trouver l'installation (en terme de capacité) qui maximise la rentabilité.\n",
    "Puisque chaque appel à notre fonction demande beaucoup de ressource (en temps de calcul), nous voulons réaliser cette optimisation en limitant le nombre d'appel à la fonction. De plus, cette fonction est considérée comme une boîte noire, nous ne pouvons en tirer de gradient.\n",
    "Note : la fonction ici ne coûte en réalité pas excessivement cher, mais puisque plus tard cette évaluation de la rentabilité prendre compte de l'évolution du parc de production, du mode d'utilisation du stockage sur le coût opérationnel, la fonction sera en réalité effectivement gourmande en énergie."
   ]
  },
  {
   "cell_type": "code",
   "execution_count": null,
   "metadata": {},
   "outputs": [],
   "source": []
  }
 ],
 "metadata": {
  "kernelspec": {
   "display_name": "Python 3",
   "language": "python",
   "name": "python3"
  },
  "language_info": {
   "codemirror_mode": {
    "name": "ipython",
    "version": 3
   },
   "file_extension": ".py",
   "mimetype": "text/x-python",
   "name": "python",
   "nbconvert_exporter": "python",
   "pygments_lexer": "ipython3",
   "version": "3.7.3"
  }
 },
 "nbformat": 4,
 "nbformat_minor": 4
}
